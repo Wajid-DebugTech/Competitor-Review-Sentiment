{
 "cells": [
  {
   "cell_type": "code",
   "execution_count": 49,
   "id": "849711d4",
   "metadata": {},
   "outputs": [
    {
     "name": "stderr",
     "output_type": "stream",
     "text": [
      "[nltk_data] Downloading package vader_lexicon to C:\\Users\\Murtuja\n",
      "[nltk_data]     afshar\\AppData\\Roaming\\nltk_data...\n",
      "[nltk_data]   Package vader_lexicon is already up-to-date!\n"
     ]
    }
   ],
   "source": [
    "import pandas as pd\n",
    "import numpy as np\n",
    "import nltk\n",
    "nltk.download (\"vader_lexicon\")\n",
    "from nltk.sentiment.vader import SentimentIntensityAnalyzer"
   ]
  },
  {
   "cell_type": "code",
   "execution_count": 50,
   "id": "56a571d6",
   "metadata": {},
   "outputs": [
    {
     "name": "stdout",
     "output_type": "stream",
     "text": [
      "<class 'pandas.core.frame.DataFrame'>\n",
      "RangeIndex: 4915 entries, 0 to 4914\n",
      "Data columns (total 12 columns):\n",
      " #   Column          Non-Null Count  Dtype  \n",
      "---  ------          --------------  -----  \n",
      " 0   reviewerID      4915 non-null   object \n",
      " 1   asin            4915 non-null   object \n",
      " 2   reviewerName    4914 non-null   object \n",
      " 3   helpful         4915 non-null   object \n",
      " 4   reviewText      4914 non-null   object \n",
      " 5   overall         4915 non-null   float64\n",
      " 6   summary         4915 non-null   object \n",
      " 7   unixReviewTime  4915 non-null   int64  \n",
      " 8   reviewTime      4915 non-null   object \n",
      " 9   day_diff        4915 non-null   int64  \n",
      " 10  helpful_yes     4915 non-null   int64  \n",
      " 11  total_vote      4915 non-null   int64  \n",
      "dtypes: float64(1), int64(4), object(7)\n",
      "memory usage: 460.9+ KB\n"
     ]
    }
   ],
   "source": [
    "df = pd.read_csv(r\"C:\\Users\\Murtuja afshar\\OneDrive\\Desktop\\job\\task 3\\amazon_review.csv\\amazon_review.csv\")\n",
    "df.info()"
   ]
  },
  {
   "cell_type": "code",
   "execution_count": 51,
   "id": "f7e9e2b5",
   "metadata": {},
   "outputs": [
    {
     "name": "stdout",
     "output_type": "stream",
     "text": [
      "<class 'pandas.core.frame.DataFrame'>\n",
      "Int64Index: 4914 entries, 0 to 4914\n",
      "Data columns (total 12 columns):\n",
      " #   Column          Non-Null Count  Dtype  \n",
      "---  ------          --------------  -----  \n",
      " 0   reviewerID      4914 non-null   object \n",
      " 1   asin            4914 non-null   object \n",
      " 2   reviewerName    4913 non-null   object \n",
      " 3   helpful         4914 non-null   object \n",
      " 4   reviewText      4914 non-null   object \n",
      " 5   overall         4914 non-null   float64\n",
      " 6   summary         4914 non-null   object \n",
      " 7   unixReviewTime  4914 non-null   int64  \n",
      " 8   reviewTime      4914 non-null   object \n",
      " 9   day_diff        4914 non-null   int64  \n",
      " 10  helpful_yes     4914 non-null   int64  \n",
      " 11  total_vote      4914 non-null   int64  \n",
      "dtypes: float64(1), int64(4), object(7)\n",
      "memory usage: 499.1+ KB\n"
     ]
    }
   ],
   "source": [
    "#dropping na\n",
    "df = df.dropna(subset = ['reviewText'])\n",
    "df.info()"
   ]
  },
  {
   "cell_type": "code",
   "execution_count": 52,
   "id": "a7c5e848",
   "metadata": {},
   "outputs": [
    {
     "name": "stderr",
     "output_type": "stream",
     "text": [
      "[nltk_data] Downloading package punkt to C:\\Users\\Murtuja\n",
      "[nltk_data]     afshar\\AppData\\Roaming\\nltk_data...\n",
      "[nltk_data]   Package punkt is already up-to-date!\n",
      "[nltk_data] Downloading package stopwords to C:\\Users\\Murtuja\n",
      "[nltk_data]     afshar\\AppData\\Roaming\\nltk_data...\n",
      "[nltk_data]   Package stopwords is already up-to-date!\n"
     ]
    },
    {
     "data": {
      "text/plain": [
       "True"
      ]
     },
     "execution_count": 52,
     "metadata": {},
     "output_type": "execute_result"
    }
   ],
   "source": [
    "import re\n",
    "from nltk.corpus import stopwords\n",
    "from nltk.tokenize import word_tokenize\n",
    "\n",
    "nltk.download('punkt')\n",
    "nltk.download('stopwords')"
   ]
  },
  {
   "cell_type": "code",
   "execution_count": 53,
   "id": "c6549e96",
   "metadata": {},
   "outputs": [],
   "source": [
    "stop_words = set(stopwords.words('english'))\n",
    "\n",
    "#lowercase, URLS, remove special characters\n",
    "def clean_text(text):\n",
    "    text = text.lower()\n",
    "    text = re.sub(r\"http\\s+|www\\s+|https\\s+\", '', text, flags = re.MULTILINE)\n",
    "    text = re.sub(r'[^a-z0-9\\s]', '', text)\n",
    "    tokens = word_tokenize(text)\n",
    "    tokens = [word for word in tokens if word not in stop_words]\n",
    "    return ' '.join(tokens)"
   ]
  },
  {
   "cell_type": "code",
   "execution_count": 54,
   "id": "310d3c25",
   "metadata": {},
   "outputs": [
    {
     "data": {
      "text/html": [
       "<div>\n",
       "<style scoped>\n",
       "    .dataframe tbody tr th:only-of-type {\n",
       "        vertical-align: middle;\n",
       "    }\n",
       "\n",
       "    .dataframe tbody tr th {\n",
       "        vertical-align: top;\n",
       "    }\n",
       "\n",
       "    .dataframe thead th {\n",
       "        text-align: right;\n",
       "    }\n",
       "</style>\n",
       "<table border=\"1\" class=\"dataframe\">\n",
       "  <thead>\n",
       "    <tr style=\"text-align: right;\">\n",
       "      <th></th>\n",
       "      <th>reviewText</th>\n",
       "      <th>cleaned_review</th>\n",
       "    </tr>\n",
       "  </thead>\n",
       "  <tbody>\n",
       "    <tr>\n",
       "      <th>0</th>\n",
       "      <td>No issues.</td>\n",
       "      <td>issues</td>\n",
       "    </tr>\n",
       "    <tr>\n",
       "      <th>1</th>\n",
       "      <td>Purchased this for my device, it worked as adv...</td>\n",
       "      <td>purchased device worked advertised never much ...</td>\n",
       "    </tr>\n",
       "    <tr>\n",
       "      <th>2</th>\n",
       "      <td>it works as expected. I should have sprung for...</td>\n",
       "      <td>works expected sprung higher capacity think ma...</td>\n",
       "    </tr>\n",
       "    <tr>\n",
       "      <th>3</th>\n",
       "      <td>This think has worked out great.Had a diff. br...</td>\n",
       "      <td>think worked greathad diff bran 64gb card went...</td>\n",
       "    </tr>\n",
       "    <tr>\n",
       "      <th>4</th>\n",
       "      <td>Bought it with Retail Packaging, arrived legit...</td>\n",
       "      <td>bought retail packaging arrived legit orange e...</td>\n",
       "    </tr>\n",
       "  </tbody>\n",
       "</table>\n",
       "</div>"
      ],
      "text/plain": [
       "                                          reviewText  \\\n",
       "0                                         No issues.   \n",
       "1  Purchased this for my device, it worked as adv...   \n",
       "2  it works as expected. I should have sprung for...   \n",
       "3  This think has worked out great.Had a diff. br...   \n",
       "4  Bought it with Retail Packaging, arrived legit...   \n",
       "\n",
       "                                      cleaned_review  \n",
       "0                                             issues  \n",
       "1  purchased device worked advertised never much ...  \n",
       "2  works expected sprung higher capacity think ma...  \n",
       "3  think worked greathad diff bran 64gb card went...  \n",
       "4  bought retail packaging arrived legit orange e...  "
      ]
     },
     "execution_count": 54,
     "metadata": {},
     "output_type": "execute_result"
    }
   ],
   "source": [
    "df['cleaned_review'] = df['reviewText'].apply(clean_text)\n",
    "df[['reviewText','cleaned_review']].head()"
   ]
  },
  {
   "cell_type": "code",
   "execution_count": 55,
   "id": "fe747f41",
   "metadata": {},
   "outputs": [
    {
     "data": {
      "text/html": [
       "<div>\n",
       "<style scoped>\n",
       "    .dataframe tbody tr th:only-of-type {\n",
       "        vertical-align: middle;\n",
       "    }\n",
       "\n",
       "    .dataframe tbody tr th {\n",
       "        vertical-align: top;\n",
       "    }\n",
       "\n",
       "    .dataframe thead th {\n",
       "        text-align: right;\n",
       "    }\n",
       "</style>\n",
       "<table border=\"1\" class=\"dataframe\">\n",
       "  <thead>\n",
       "    <tr style=\"text-align: right;\">\n",
       "      <th></th>\n",
       "      <th>reviewText</th>\n",
       "      <th>cleaned_review</th>\n",
       "      <th>compund_score</th>\n",
       "      <th>sentiment</th>\n",
       "    </tr>\n",
       "  </thead>\n",
       "  <tbody>\n",
       "    <tr>\n",
       "      <th>0</th>\n",
       "      <td>No issues.</td>\n",
       "      <td>issues</td>\n",
       "      <td>0.0000</td>\n",
       "      <td>Neutral</td>\n",
       "    </tr>\n",
       "    <tr>\n",
       "      <th>1</th>\n",
       "      <td>Purchased this for my device, it worked as adv...</td>\n",
       "      <td>purchased device worked advertised never much ...</td>\n",
       "      <td>0.0000</td>\n",
       "      <td>Neutral</td>\n",
       "    </tr>\n",
       "    <tr>\n",
       "      <th>2</th>\n",
       "      <td>it works as expected. I should have sprung for...</td>\n",
       "      <td>works expected sprung higher capacity think ma...</td>\n",
       "      <td>0.4019</td>\n",
       "      <td>Positive</td>\n",
       "    </tr>\n",
       "    <tr>\n",
       "      <th>3</th>\n",
       "      <td>This think has worked out great.Had a diff. br...</td>\n",
       "      <td>think worked greathad diff bran 64gb card went...</td>\n",
       "      <td>0.6486</td>\n",
       "      <td>Positive</td>\n",
       "    </tr>\n",
       "    <tr>\n",
       "      <th>4</th>\n",
       "      <td>Bought it with Retail Packaging, arrived legit...</td>\n",
       "      <td>bought retail packaging arrived legit orange e...</td>\n",
       "      <td>0.8591</td>\n",
       "      <td>Positive</td>\n",
       "    </tr>\n",
       "  </tbody>\n",
       "</table>\n",
       "</div>"
      ],
      "text/plain": [
       "                                          reviewText  \\\n",
       "0                                         No issues.   \n",
       "1  Purchased this for my device, it worked as adv...   \n",
       "2  it works as expected. I should have sprung for...   \n",
       "3  This think has worked out great.Had a diff. br...   \n",
       "4  Bought it with Retail Packaging, arrived legit...   \n",
       "\n",
       "                                      cleaned_review  compund_score sentiment  \n",
       "0                                             issues         0.0000   Neutral  \n",
       "1  purchased device worked advertised never much ...         0.0000   Neutral  \n",
       "2  works expected sprung higher capacity think ma...         0.4019  Positive  \n",
       "3  think worked greathad diff bran 64gb card went...         0.6486  Positive  \n",
       "4  bought retail packaging arrived legit orange e...         0.8591  Positive  "
      ]
     },
     "execution_count": 55,
     "metadata": {},
     "output_type": "execute_result"
    }
   ],
   "source": [
    "#sentiment analysis using Vader\n",
    "\n",
    "\n",
    "sia = SentimentIntensityAnalyzer()\n",
    "\n",
    "def get_sentiment(text):\n",
    "    score = sia.polarity_scores(text)\n",
    "    compound = score['compound']\n",
    "    \n",
    "    if compound >= 0.05:\n",
    "        sentiment = 'Positive'\n",
    "    elif compound <= -0.05:\n",
    "        sentiment = 'Negative'\n",
    "    else:\n",
    "        sentiment = 'Neutral'\n",
    "    \n",
    "    return pd.Series([compound, sentiment])\n",
    "\n",
    "#apply to reviews\n",
    "\n",
    "df[['compund_score', 'sentiment']] = df['cleaned_review'].apply(get_sentiment)\n",
    "df[['reviewText','cleaned_review','compund_score','sentiment']].head()"
   ]
  },
  {
   "cell_type": "code",
   "execution_count": 56,
   "id": "496973c0",
   "metadata": {},
   "outputs": [
    {
     "data": {
      "text/plain": [
       "Positive    3898\n",
       "Negative     639\n",
       "Neutral      377\n",
       "Name: sentiment, dtype: int64"
      ]
     },
     "execution_count": 56,
     "metadata": {},
     "output_type": "execute_result"
    }
   ],
   "source": [
    "df['sentiment'].value_counts()"
   ]
  },
  {
   "cell_type": "code",
   "execution_count": 57,
   "id": "1f45bdac",
   "metadata": {},
   "outputs": [
    {
     "data": {
      "image/png": "[encoded data removed]",
      "text/plain": [
       "<Figure size 432x288 with 1 Axes>"
      ]
     },
     "metadata": {
      "needs_background": "light"
     },
     "output_type": "display_data"
    }
   ],
   "source": [
    "import seaborn as sns\n",
    "import matplotlib.pyplot as plt\n",
    "\n",
    "sns.countplot(data=df, x='sentiment', palette='pastel')\n",
    "plt.title('Sentiment Distribution of Amazon Reviews')\n",
    "plt.xlabel('Sentiment')\n",
    "plt.ylabel('Count')\n",
    "plt.show()"
   ]
  },
  {
   "cell_type": "code",
   "execution_count": 59,
   "id": "2b7af1bf",
   "metadata": {},
   "outputs": [
    {
     "data": {
      "image/png": "[encoded data removed]",
      "text/plain": [
       "<Figure size 576x432 with 1 Axes>"
      ]
     },
     "metadata": {},
     "output_type": "display_data"
    }
   ],
   "source": [
    "sentiment_counts = df['sentiment'].value_counts()\n",
    "\n",
    "# Create a pie plot\n",
    "plt.figure(figsize=(8, 6))\n",
    "plt.pie(sentiment_counts, labels=sentiment_counts.index, autopct='%1.1f%%', startangle=90, colors=['#ff9999', '#66b3ff', '#99ff99'])\n",
    "plt.title('Sentiment Distribution of Reviews')\n",
    "plt.axis('equal')  # Equal aspect ratio ensures the pie is circular\n",
    "plt.show()"
   ]
  },
  {
   "cell_type": "code",
   "execution_count": 60,
   "id": "a137e329",
   "metadata": {},
   "outputs": [
    {
     "data": {
      "image/png": "[encoded data removed]",
      "text/plain": [
       "<Figure size 432x288 with 1 Axes>"
      ]
     },
     "metadata": {
      "needs_background": "light"
     },
     "output_type": "display_data"
    }
   ],
   "source": [
    "df['review_length'] = df['reviewText'].apply(lambda x: len(str(x).split()))\n",
    "sns.boxplot(data=df, x='sentiment', y='review_length', palette='coolwarm')\n",
    "plt.title('Review Length Across Sentiments')\n",
    "plt.xlabel('Sentiment')\n",
    "plt.ylabel('Number of Words')\n",
    "plt.show()"
   ]
  },
  {
   "cell_type": "code",
   "execution_count": null,
   "id": "a604f733",
   "metadata": {},
   "outputs": [],
   "source": []
  }
 ],
 "metadata": {
  "kernelspec": {
   "display_name": "Python 3 (ipykernel)",
   "language": "python",
   "name": "python3"
  },
  "language_info": {
   "codemirror_mode": {
    "name": "ipython",
    "version": 3
   },
   "file_extension": ".py",
   "mimetype": "text/x-python",
   "name": "python",
   "nbconvert_exporter": "python",
   "pygments_lexer": "ipython3",
   "version": "3.9.12"
  }
 },
 "nbformat": 4,
 "nbformat_minor": 5
}
